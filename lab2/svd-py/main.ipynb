{
 "metadata": {
  "language_info": {
   "codemirror_mode": {
    "name": "ipython",
    "version": 3
   },
   "file_extension": ".py",
   "mimetype": "text/x-python",
   "name": "python",
   "nbconvert_exporter": "python",
   "pygments_lexer": "ipython3",
   "version": 3
  },
  "orig_nbformat": 2
 },
 "nbformat": 4,
 "nbformat_minor": 2,
 "cells": [
  {
   "source": [
    "## Single value decomposisition\n",
    "\n",
    "A = U. Sigma . V^T\n",
    "where \n",
    "U = m x n matrix\n",
    "Sigma = m x n diagonal matrix\n",
    "V^T = transpose of an m x n matrix where T is superscript\n",
    "\n",
    "SVD is also known to be used in :\n",
    "a. Least square linear regression\n",
    "b. Image compression\n",
    "c. Denoising of data\n",
    "\n",
    "It has numerous applications in statistics, machine learning and computer science."
   ],
   "cell_type": "markdown",
   "metadata": {}
  },
  {
   "cell_type": "code",
   "execution_count": null,
   "metadata": {},
   "outputs": [],
   "source": [
    "import numpy as np\n",
    "from scipy.linalg import svd\n",
    "\n",
    "A = np.array([[1,2], [3,4], [5, 6]])\n",
    "print(A)\n",
    "U, s, VT = svd(A)\n",
    "print('U', U)\n",
    "print('s', s)\n",
    "print('VT', VT)"
   ]
  }
 ]
}
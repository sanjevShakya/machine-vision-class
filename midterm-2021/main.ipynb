{
 "metadata": {
  "language_info": {
   "codemirror_mode": {
    "name": "ipython",
    "version": 3
   },
   "file_extension": ".py",
   "mimetype": "text/x-python",
   "name": "python",
   "nbconvert_exporter": "python",
   "pygments_lexer": "ipython3",
   "version": "3.9.5"
  },
  "orig_nbformat": 2,
  "kernelspec": {
   "name": "python395jvsc74a57bd031f2aee4e71d21fbe5cf8b01ff0e069b9275f58929596ceb00d14d90e3e16cd6",
   "display_name": "Python 3.9.5 64-bit"
  },
  "metadata": {
   "interpreter": {
    "hash": "31f2aee4e71d21fbe5cf8b01ff0e069b9275f58929596ceb00d14d90e3e16cd6"
   }
  }
 },
 "nbformat": 4,
 "nbformat_minor": 2,
 "cells": [
  {
   "cell_type": "code",
   "execution_count": 1,
   "metadata": {},
   "outputs": [],
   "source": [
    "import numpy as np"
   ]
  },
  {
   "cell_type": "code",
   "execution_count": 3,
   "metadata": {},
   "outputs": [
    {
     "output_type": "stream",
     "name": "stdout",
     "text": [
      "[[ 1.          0.          0.        ]\n [ 0.         -0.25881905 -0.96592583]\n [ 0.          0.96592583 -0.25881905]]\n"
     ]
    }
   ],
   "source": [
    "principle_point = np.array([[1002.07, 425.696]]).T\n",
    "camera_center = np.array([[0, 0.35, 0.4]]).T\n",
    "# pitched downward 15 degrees is rotation about the x-axis\n",
    "alpha = (-105/ 180) * np.pi\n",
    "R = np.array([[1, 0, 0], [0, np.cos(alpha), np.sin(alpha)], [0, -np.sin(alpha), np.cos(alpha)]])\n",
    "print(R)"
   ]
  },
  {
   "cell_type": "code",
   "execution_count": 11,
   "metadata": {},
   "outputs": [
    {
     "output_type": "stream",
     "name": "stdout",
     "text": [
      "[[-0.        ]\n [ 0.476957  ]\n [-0.23454642]]\n"
     ]
    }
   ],
   "source": [
    "R_C = -np.dot(R, camera_center)\n",
    "print(R_C)"
   ]
  },
  {
   "cell_type": "code",
   "execution_count": 16,
   "metadata": {},
   "outputs": [
    {
     "output_type": "stream",
     "name": "stdout",
     "text": [
      "[[ 796.607         0.            0.            0.        ]\n [   0.         -205.4790281  -766.85817275  378.66092893]\n [1002.07       -109.2123064  -411.44957959  202.80413908]]\n"
     ]
    }
   ],
   "source": [
    "K = np.array([[796.607, 0, 1002.07], [0, 793.91, 425.696],[0, 0, 1]]).T\n",
    "t = np.hstack((R, R_C))\n",
    "projection_matrix = np.dot(K, t)\n",
    "print(projection_matrix)"
   ]
  },
  {
   "cell_type": "code",
   "execution_count": 30,
   "metadata": {},
   "outputs": [
    {
     "output_type": "stream",
     "name": "stdout",
     "text": [
      "[[ 796.607         0.            0.        ]\n [   0.         -205.4790281   378.66092893]\n [1002.07       -109.2123064   202.80413908]]\n"
     ]
    }
   ],
   "source": [
    "H = np.array([[796.607, 0, 0], [0, -205.4790281, 378.66092893], [1002.07,-109.2123064, 202.80413908]])\n",
    "print(H)"
   ]
  },
  {
   "cell_type": "code",
   "execution_count": 34,
   "metadata": {},
   "outputs": [
    {
     "output_type": "stream",
     "name": "stdout",
     "text": [
      "[[ 1.79511353e+00]\n [-2.57159667e+03]\n [-1.39369854e+03]]\n"
     ]
    }
   ],
   "source": [
    "# inspecting the image using GIMP and finding the camera coordinate \n",
    "# for bottom right of the black chair\n",
    "black_chair_coordinate = np.array([[1430, 670, 1]]).T\n",
    "inv_H = np.linalg.inv(H)\n",
    "chair_ground_coordinate = np.dot(inv_H, black_chair_coordinate)\n",
    "print(chair_ground_coordinate)"
   ]
  },
  {
   "cell_type": "code",
   "execution_count": null,
   "metadata": {},
   "outputs": [],
   "source": []
  }
 ]
}
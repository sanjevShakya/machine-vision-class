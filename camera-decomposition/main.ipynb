{
 "metadata": {
  "language_info": {
   "codemirror_mode": {
    "name": "ipython",
    "version": 3
   },
   "file_extension": ".py",
   "mimetype": "text/x-python",
   "name": "python",
   "nbconvert_exporter": "python",
   "pygments_lexer": "ipython3",
   "version": "3.7.9"
  },
  "orig_nbformat": 2,
  "kernelspec": {
   "name": "python379jvsc74a57bd0653bb68ba00856e05ff563a6b7c82340d1fdd4fce8b9850acb32d9cd0492e351",
   "display_name": "Python 3.7.9 64-bit ('base': conda)"
  },
  "metadata": {
   "interpreter": {
    "hash": "31f2aee4e71d21fbe5cf8b01ff0e069b9275f58929596ceb00d14d90e3e16cd6"
   }
  }
 },
 "nbformat": 4,
 "nbformat_minor": 2,
 "cells": [
  {
   "cell_type": "code",
   "execution_count": 2,
   "metadata": {},
   "outputs": [],
   "source": [
    "import numpy as np\n",
    "import math\n",
    "\n",
    "A = np.array([[3388.7, 6205.5, -3582.8, -9206.1], [0, 1796.3, -4950.8, 8103.8], [0, 6.4641, -3.73205, 1]])\n"
   ]
  },
  {
   "cell_type": "code",
   "execution_count": 3,
   "metadata": {},
   "outputs": [
    {
     "output_type": "stream",
     "name": "stdout",
     "text": [
      "r [[ 0.00000000e+00  5.35856615e+03  9.18130013e+03 -5.87960439e+03]\n [ 0.00000000e+00  0.00000000e+00 -8.22734781e+03 -5.07143341e+03]\n [ 0.00000000e+00  0.00000000e+00  0.00000000e+00 -7.53078920e+00]]\n--------------\nq [[ 0.77465073  0.25815723  0.51632977  0.25821437]\n [ 0.63238932 -0.31623192 -0.63248259 -0.31630191]\n [-0.          0.31076802  0.29627269 -0.90313107]\n [-0.         -0.85835625  0.49557223 -0.13278821]]\n"
     ]
    }
   ],
   "source": [
    "from scipy import linalg\n",
    "r, q = linalg.rq(A)\n",
    "print('r', r);\n",
    "print('--------------')\n",
    "print('q', q)"
   ]
  },
  {
   "cell_type": "code",
   "execution_count": 4,
   "metadata": {},
   "outputs": [
    {
     "output_type": "stream",
     "name": "stdout",
     "text": [
      "Camera coordinate [3.0000295  0.99977872 1.99961673 1.        ]\n"
     ]
    }
   ],
   "source": [
    "u, s, vh  = np.linalg.svd(A, full_matrices=True)\n",
    "lastCol = vh[-1]\n",
    "C = lastCol / lastCol[-1]\n",
    "print('Camera coordinate', C)"
   ]
  },
  {
   "cell_type": "code",
   "execution_count": 6,
   "metadata": {},
   "outputs": [
    {
     "output_type": "stream",
     "name": "stdout",
     "text": [
      "[[ 4.53999824e+02 -6.12435716e-03  9.59997967e+02]\n [ 0.00000000e+00 -4.54089387e+02  5.40057285e+02]\n [ 0.00000000e+00  0.00000000e+00  1.00000000e+00]]\n[[ 453.99982383    0.          959.99796668]\n [   0.         -454.0893873   540.05728529]\n [   0.            0.            1.        ]]\n[[ 1.          0.          0.        ]\n [-0.          0.50000001  0.8660254 ]\n [ 0.          0.8660254  -0.50000001]]\n"
     ]
    }
   ],
   "source": [
    "M = A[:,0:3]\n",
    "k, r = linalg.rq(M)\n",
    "k = k / k[2,2]\n",
    "fix_t = np.eye(3)\n",
    "print(k)\n",
    "if(k[0,0] < 0):\n",
    "    k[0,0] = 0\n",
    "if(k[0,1] < 0):\n",
    "    k[0,1] = 0\n",
    "# k = k * fix_t\n",
    "\n",
    "print(k)\n",
    "print(r)"
   ]
  },
  {
   "cell_type": "code",
   "execution_count": 21,
   "metadata": {},
   "outputs": [
    {
     "output_type": "stream",
     "name": "stdout",
     "text": [
      "[[ 4.54000000e+02  8.31384388e+02 -4.80000000e+02 -1.23338439e+03]\n [ 0.00000000e+00  2.40653718e+02 -6.63175533e+02  1.08569735e+03]\n [ 0.00000000e+00  8.66025404e-01 -5.00000000e-01  1.33974596e-01]]\n[0.89391421]\n"
     ]
    }
   ],
   "source": [
    "alpha = (-120 * np.pi / 180)\n",
    "C = np.array([[3,1,2]]).T\n",
    "R = np.array([[1, 0, 0], [0, np.cos(alpha), np.sin(alpha)], [0, -np.sin(alpha), np.cos(alpha)]])\n",
    "t = -np.dot(R, C)\n",
    "k = np.array([[454, 0, 960], [0, 454, 540], [0, 0, 1]])\n",
    "R_RC = np.hstack((R, t))\n",
    "P = np.dot(k, R_RC)\n",
    "print(P)\n",
    "X = np.array([[1200, 700, 1]]).T\n",
    "Pp = np.dot(np.linalg.pinv(P), X)\n",
    "# all points in lamda can be described by X(lambda) = pinv(P)X + lambda.C, we want lambda such that P+ X [3] + lambda * 2 = 0\n",
    "print(-Pp[2] * 2 /2 )"
   ]
  },
  {
   "cell_type": "code",
   "execution_count": null,
   "metadata": {},
   "outputs": [],
   "source": []
  }
 ]
}
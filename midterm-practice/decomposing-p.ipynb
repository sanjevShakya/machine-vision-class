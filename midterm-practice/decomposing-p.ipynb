{
 "metadata": {
  "language_info": {
   "codemirror_mode": {
    "name": "ipython",
    "version": 3
   },
   "file_extension": ".py",
   "mimetype": "text/x-python",
   "name": "python",
   "nbconvert_exporter": "python",
   "pygments_lexer": "ipython3",
   "version": "3.7.9"
  },
  "orig_nbformat": 2,
  "kernelspec": {
   "name": "python379jvsc74a57bd0653bb68ba00856e05ff563a6b7c82340d1fdd4fce8b9850acb32d9cd0492e351",
   "display_name": "Python 3.7.9 64-bit ('base': conda)"
  },
  "metadata": {
   "interpreter": {
    "hash": "31f2aee4e71d21fbe5cf8b01ff0e069b9275f58929596ceb00d14d90e3e16cd6"
   }
  }
 },
 "nbformat": 4,
 "nbformat_minor": 2,
 "cells": [
  {
   "cell_type": "code",
   "execution_count": 1,
   "metadata": {},
   "outputs": [],
   "source": [
    "import numpy as np\n",
    "from scipy import linalg\n",
    "import math\n",
    "\n",
    "A = np.array([[3388.7, 6205.5, -3582.8, -9206.1], [0, 1796.3, -4950.8, 8103.8], [0, 6.4641, -3.73205, 1]])"
   ]
  },
  {
   "cell_type": "code",
   "execution_count": 21,
   "metadata": {},
   "outputs": [],
   "source": [
    "def decompose_P(P):\n",
    "    u, s, vh  = np.linalg.svd(A, full_matrices=True)\n",
    "    lastCol = vh[-1]\n",
    "    C = lastCol / lastCol[-1]\n",
    "    M = A[:,0:3]\n",
    "    k, r = linalg.rq(M)\n",
    "    k = k / k[2,2]\n",
    "    fix_t = np.eye(3)\n",
    "    if(k[0,0] < 0):\n",
    "        fix_t[0,0] = -1\n",
    "    if(k[1,1] < 0):\n",
    "        fix_t[1,1] = -1\n",
    "    K = np.dot(k, fix_t)\n",
    "    R = np.dot(fix_t, r)\n",
    "    if(np.linalg.det(R) < 0):\n",
    "        R = -R\n",
    "    T = -R * C[0:-1]\n",
    "    return (C, T, R, K)"
   ]
  },
  {
   "cell_type": "code",
   "execution_count": 22,
   "metadata": {},
   "outputs": [
    {
     "output_type": "stream",
     "name": "stdout",
     "text": [
      "Camera matrix\n [3.0000295  0.99977872 1.99961673 1.        ]\nRotation matrix\n [[ 1.          0.          0.        ]\n [ 0.         -0.50000001 -0.8660254 ]\n [ 0.          0.8660254  -0.50000001]]\nCamera Calibration\n [[4.53999824e+02 6.12435716e-03 9.59997967e+02]\n [0.00000000e+00 4.54089387e+02 5.40057285e+02]\n [0.00000000e+00 0.00000000e+00 1.00000000e+00]]\n"
     ]
    }
   ],
   "source": [
    "C, T, R, K = decompose_P(A)\n",
    "print(\"Camera matrix\\n\", C)\n",
    "print(\"Rotation matrix\\n\", R)\n",
    "print(\"Camera Calibration\\n\", K)"
   ]
  },
  {
   "cell_type": "code",
   "execution_count": null,
   "metadata": {},
   "outputs": [],
   "source": []
  }
 ]
}